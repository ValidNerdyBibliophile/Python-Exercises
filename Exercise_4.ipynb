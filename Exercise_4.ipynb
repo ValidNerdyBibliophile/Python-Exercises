{
  "nbformat": 4,
  "nbformat_minor": 0,
  "metadata": {
    "colab": {
      "name": "Exercise_4.ipynb",
      "provenance": [],
      "authorship_tag": "ABX9TyM8/aLbJAEtiEWLKSkev8TO",
      "include_colab_link": true
    },
    "kernelspec": {
      "name": "python3",
      "display_name": "Python 3"
    },
    "language_info": {
      "name": "python"
    }
  },
  "cells": [
    {
      "cell_type": "markdown",
      "metadata": {
        "id": "view-in-github",
        "colab_type": "text"
      },
      "source": [
        "<a href=\"https://colab.research.google.com/github/ValidNerdyBibliophile/Python-Exercises/blob/main/Exercise_4.ipynb\" target=\"_parent\"><img src=\"https://colab.research.google.com/assets/colab-badge.svg\" alt=\"Open In Colab\"/></a>"
      ]
    },
    {
      "cell_type": "code",
      "metadata": {
        "colab": {
          "base_uri": "https://localhost:8080/"
        },
        "id": "4aVLozH6B8ny",
        "outputId": "702c3f84-9f01-41a7-96f3-40860d56a07b"
      },
      "source": [
        "import numpy as np\n",
        " \n",
        " \n",
        "A = np.array([[0, 0, 0],\n",
        "              [0, 0, 0]])\n",
        " \n",
        "B = np.array([[0, 0, 0],\n",
        "              [0, 1, 0]])\n",
        " \n",
        "C = np.array([[False, False, False],\n",
        "              [True, False, False]])\n",
        " \n",
        "D = np.array([[0.1, 0.0]])\n",
        " \n",
        "for name, array in zip(list('ABCD'), [A, B, C, D]):\n",
        "    print(f'{name}: {np.any(array, axis=0)}')"
      ],
      "execution_count": 1,
      "outputs": [
        {
          "output_type": "stream",
          "text": [
            "A: [False False False]\n",
            "B: [False  True False]\n",
            "C: [ True False False]\n",
            "D: [ True False]\n"
          ],
          "name": "stdout"
        }
      ]
    },
    {
      "cell_type": "code",
      "metadata": {
        "id": "GmSPohIxCKKC"
      },
      "source": [
        ""
      ],
      "execution_count": null,
      "outputs": []
    }
  ]
}